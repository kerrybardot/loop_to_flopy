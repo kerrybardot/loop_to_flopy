{
 "cells": [
  {
   "cell_type": "markdown",
   "metadata": {},
   "source": [
    "\n",
    "# 3c. Defining the fault displacement function\n"
   ]
  },
  {
   "cell_type": "code",
   "execution_count": 1,
   "metadata": {},
   "outputs": [
    {
     "data": {
      "text/html": [
       "<div>\n",
       "<style scoped>\n",
       "    .dataframe tbody tr th:only-of-type {\n",
       "        vertical-align: middle;\n",
       "    }\n",
       "\n",
       "    .dataframe tbody tr th {\n",
       "        vertical-align: top;\n",
       "    }\n",
       "\n",
       "    .dataframe thead th {\n",
       "        text-align: right;\n",
       "    }\n",
       "</style>\n",
       "<table border=\"1\" class=\"dataframe\">\n",
       "  <thead>\n",
       "    <tr style=\"text-align: right;\">\n",
       "      <th></th>\n",
       "      <th>X</th>\n",
       "      <th>Y</th>\n",
       "      <th>Z</th>\n",
       "      <th>val</th>\n",
       "      <th>nx</th>\n",
       "      <th>ny</th>\n",
       "      <th>nz</th>\n",
       "      <th>coord</th>\n",
       "      <th>feature_name</th>\n",
       "    </tr>\n",
       "  </thead>\n",
       "  <tbody>\n",
       "    <tr>\n",
       "      <th>0</th>\n",
       "      <td>5</td>\n",
       "      <td>5</td>\n",
       "      <td>5</td>\n",
       "      <td>0</td>\n",
       "      <td>0.707107</td>\n",
       "      <td>0.0</td>\n",
       "      <td>0.707107</td>\n",
       "      <td>0.0</td>\n",
       "      <td>fault</td>\n",
       "    </tr>\n",
       "    <tr>\n",
       "      <th>1</th>\n",
       "      <td>5</td>\n",
       "      <td>5</td>\n",
       "      <td>5</td>\n",
       "      <td>0</td>\n",
       "      <td>-0.707107</td>\n",
       "      <td>0.0</td>\n",
       "      <td>0.707107</td>\n",
       "      <td>1.0</td>\n",
       "      <td>fault</td>\n",
       "    </tr>\n",
       "    <tr>\n",
       "      <th>2</th>\n",
       "      <td>8</td>\n",
       "      <td>5</td>\n",
       "      <td>5</td>\n",
       "      <td>0</td>\n",
       "      <td>0.000000</td>\n",
       "      <td>0.0</td>\n",
       "      <td>1.000000</td>\n",
       "      <td>NaN</td>\n",
       "      <td>strati</td>\n",
       "    </tr>\n",
       "  </tbody>\n",
       "</table>\n",
       "</div>"
      ],
      "text/plain": [
       "   X  Y  Z  val        nx   ny        nz  coord feature_name\n",
       "0  5  5  5    0  0.707107  0.0  0.707107    0.0        fault\n",
       "1  5  5  5    0 -0.707107  0.0  0.707107    1.0        fault\n",
       "2  8  5  5    0  0.000000  0.0  1.000000    NaN       strati"
      ]
     },
     "execution_count": 1,
     "metadata": {},
     "output_type": "execute_result"
    }
   ],
   "source": [
    "import numpy as np\n",
    "import pandas as pd\n",
    "import LoopStructural as LS\n",
    "\n",
    "# Define a dataset for a fault\n",
    "\n",
    "origin = [0, 0, 0]\n",
    "extent = [10, 10, 10]\n",
    "\n",
    "data = pd.DataFrame(\n",
    "    [\n",
    "        [5, 5, 5, 0, 0.70710678, 0.0, 0.70710678, 0, \"fault\"],\n",
    "        [5, 5, 5, 0, -0.70710678, 0.0, 0.70710678, 1, \"fault\"],\n",
    "        [8, 5, 5, 0, 0, 0, 1, np.nan, \"strati\"],\n",
    "    ],\n",
    "    columns=[\"X\", \"Y\", \"Z\", \"val\", \"nx\", \"ny\", \"nz\", \"coord\", \"feature_name\"],\n",
    ")\n",
    "\n",
    "data"
   ]
  },
  {
   "cell_type": "markdown",
   "metadata": {},
   "source": [
    "Create model using the standard fault displacement model\n",
    "\n"
   ]
  },
  {
   "cell_type": "code",
   "execution_count": 2,
   "metadata": {},
   "outputs": [
    {
     "name": "stderr",
     "output_type": "stream",
     "text": [
      "WARNING: 2024-06-24 11:50:37,819: _fault_builder.py:208 -- There is no slip vector data for the fault, using vertical slip vector\n",
      "                          projected onto fault surface estimating from fault normal\n"
     ]
    },
    {
     "ename": "AttributeError",
     "evalue": "module 'LoopStructural.visualisation' has no attribute 'Loop3DView'",
     "output_type": "error",
     "traceback": [
      "\u001b[1;31m---------------------------------------------------------------------------\u001b[0m",
      "\u001b[1;31mAttributeError\u001b[0m                            Traceback (most recent call last)",
      "Cell \u001b[1;32mIn[2], line 20\u001b[0m\n\u001b[0;32m     13\u001b[0m model\u001b[38;5;241m.\u001b[39mcreate_and_add_foliation(\n\u001b[0;32m     14\u001b[0m     \u001b[38;5;124m\"\u001b[39m\u001b[38;5;124mstrati\u001b[39m\u001b[38;5;124m\"\u001b[39m, nelements\u001b[38;5;241m=\u001b[39m\u001b[38;5;241m1000\u001b[39m, interpolator_type\u001b[38;5;241m=\u001b[39m\u001b[38;5;124m\"\u001b[39m\u001b[38;5;124mPLI\u001b[39m\u001b[38;5;124m\"\u001b[39m, faults\u001b[38;5;241m=\u001b[39m[model[\u001b[38;5;124m\"\u001b[39m\u001b[38;5;124mfault\u001b[39m\u001b[38;5;124m\"\u001b[39m]]\n\u001b[0;32m     15\u001b[0m )\n\u001b[0;32m     18\u001b[0m \u001b[38;5;28;01mimport\u001b[39;00m \u001b[38;5;21;01mLoopStructural\u001b[39;00m\u001b[38;5;21;01m.\u001b[39;00m\u001b[38;5;21;01mvisualisation\u001b[39;00m \u001b[38;5;28;01mas\u001b[39;00m \u001b[38;5;21;01mvis\u001b[39;00m\n\u001b[1;32m---> 20\u001b[0m view \u001b[38;5;241m=\u001b[39m \u001b[43mvis\u001b[49m\u001b[38;5;241;43m.\u001b[39;49m\u001b[43mLoop3DView\u001b[49m(model)\n\u001b[0;32m     21\u001b[0m view\u001b[38;5;241m.\u001b[39madd_isosurface(model\u001b[38;5;241m.\u001b[39mfeatures[\u001b[38;5;241m0\u001b[39m], slices\u001b[38;5;241m=\u001b[39m[\u001b[38;5;241m0\u001b[39m])\n\u001b[0;32m     22\u001b[0m view\u001b[38;5;241m.\u001b[39madd_isosurface(model\u001b[38;5;241m.\u001b[39mfeatures[\u001b[38;5;241m1\u001b[39m], nslices\u001b[38;5;241m=\u001b[39m\u001b[38;5;241m5\u001b[39m, paint_with\u001b[38;5;241m=\u001b[39mmodel\u001b[38;5;241m.\u001b[39mfeatures[\u001b[38;5;241m1\u001b[39m])\n",
      "\u001b[1;31mAttributeError\u001b[0m: module 'LoopStructural.visualisation' has no attribute 'Loop3DView'"
     ]
    }
   ],
   "source": [
    "model = LS.GeologicalModel(origin, extent)\n",
    "model.data = data\n",
    "model.create_and_add_fault(\n",
    "    \"fault\",\n",
    "    1,\n",
    "    nelements=1000,\n",
    "    interpolator_type=\"PLI\",\n",
    "    buffer=0.5,\n",
    "    major_axis=10,\n",
    "    minor_axis=3,\n",
    "    intermediate_axis=10,\n",
    ")\n",
    "model.create_and_add_foliation(\n",
    "    \"strati\", nelements=1000, interpolator_type=\"PLI\", faults=[model[\"fault\"]]\n",
    ")\n",
    "\n",
    "\n",
    "import LoopStructural.visualisation as vis\n",
    "\n",
    "view = vis.Loop3DView(model)\n",
    "view.add_isosurface(model.features[0], slices=[0])\n",
    "view.add_isosurface(model.features[1], nslices=5, paint_with=model.features[1])\n",
    "# view.add_vector_field(model[\"fault\"][1], locations=model.regular_grid()[::100])\n",
    "view.camera = {\n",
    "    'translate': [0.0, 0.0, -17.321],\n",
    "    'rotate': [-0.703, -0.055, -0.043, 0.708],\n",
    "    'xyzrotate': [-89.604, -8.007, 0.933],\n",
    "    'fov': 45.0,\n",
    "}\n",
    "view.display()"
   ]
  },
  {
   "cell_type": "markdown",
   "metadata": {},
   "source": [
    "Define a fault displacement profile which\n",
    "is a drag fault only on the footwall side.\n",
    "In LoopStructural the displacement is defined by a function of the three\n",
    "coordinates of the fault frame.\n",
    "The fault profile in the fault surface field\n",
    "\n"
   ]
  },
  {
   "cell_type": "code",
   "execution_count": null,
   "metadata": {},
   "outputs": [],
   "source": [
    "model['fault'].faultfunction.gx.plot()"
   ]
  },
  {
   "cell_type": "markdown",
   "metadata": {},
   "source": [
    "The fault profile in the fault extent\n",
    "\n"
   ]
  },
  {
   "cell_type": "code",
   "execution_count": null,
   "metadata": {},
   "outputs": [],
   "source": [
    "model['fault'].faultfunction.gy.plot()"
   ]
  },
  {
   "cell_type": "markdown",
   "metadata": {},
   "source": [
    "The fault profile down dip is kept constant.\n",
    "We will modify this profile so that the hanging wall is displaced by a constant value\n",
    "\n"
   ]
  },
  {
   "cell_type": "code",
   "execution_count": null,
   "metadata": {},
   "outputs": [],
   "source": [
    "from LoopStructural.modelling.features.fault._fault_function import (\n",
    "    FaultDisplacement,\n",
    "    CubicFunction,\n",
    "    Ones,\n",
    ")\n",
    "\n",
    "fw = CubicFunction()\n",
    "fw.add_cstr(0, -1)\n",
    "fw.add_grad(0, 0)\n",
    "fw.add_cstr(-1, 0)\n",
    "fw.add_grad(-1, 0)\n",
    "fw.add_min(-1)\n",
    "hw = Ones()\n",
    "drag_fault = FaultDisplacement(hw=hw, fw=fw)\n",
    "\n",
    "drag_fault.gx.plot()\n",
    "drag_fault.gy.plot()\n",
    "drag_fault.gz.plot()\n",
    "\n",
    "model = LS.GeologicalModel(origin, extent)\n",
    "model.data = data\n",
    "model.create_and_add_fault(\n",
    "    \"fault\",\n",
    "    -1,\n",
    "    nelements=1000,\n",
    "    interpolator_type=\"PLI\",\n",
    "    buffer=0.5,\n",
    "    major_axis=10,\n",
    "    minor_axis=6,\n",
    "    intermediate_axis=10,\n",
    "    faultfunction=drag_fault,\n",
    ")\n",
    "model.create_and_add_foliation(\n",
    "    \"strati\", nelements=1000, interpolator_type=\"PLI\", faults=[model[\"fault\"]]\n",
    ")\n",
    "\n",
    "\n",
    "view = vis.Loop3DView(model)\n",
    "view.nelements = 1e5\n",
    "view.add_isosurface(model.features[0], slices=[0])\n",
    "view.add_isosurface(model['strati'], nslices=5)\n",
    "# view.add_scalar_field(model['strati'], cmap='tab20')\n",
    "# view.add_vector_field(model[\"fault\"][1], locations=model.regular_grid()[::100])\n",
    "view.camera = {\n",
    "    'translate': [0.0, 0.0, -17.321],\n",
    "    'rotate': [-0.703, -0.055, -0.043, 0.708],\n",
    "    'xyzrotate': [-89.604, -8.007, 0.933],\n",
    "    'fov': 45.0,\n",
    "}\n",
    "\n",
    "view.display()"
   ]
  }
 ],
 "metadata": {
  "kernelspec": {
   "display_name": "Python [conda env:loop3denvu]",
   "language": "python",
   "name": "conda-env-loop3denvu-py"
  },
  "language_info": {
   "codemirror_mode": {
    "name": "ipython",
    "version": 3
   },
   "file_extension": ".py",
   "mimetype": "text/x-python",
   "name": "python",
   "nbconvert_exporter": "python",
   "pygments_lexer": "ipython3",
   "version": "3.9.18"
  }
 },
 "nbformat": 4,
 "nbformat_minor": 1
}
