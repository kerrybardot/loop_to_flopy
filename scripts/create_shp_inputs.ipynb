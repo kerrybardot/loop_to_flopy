{
 "cells": [
  {
   "cell_type": "code",
   "execution_count": 5,
   "id": "2cf34b96",
   "metadata": {},
   "outputs": [
    {
     "data": {
      "text/plain": [
       "geopandas.geodataframe.GeoDataFrame"
      ]
     },
     "execution_count": 5,
     "metadata": {},
     "output_type": "execute_result"
    }
   ],
   "source": [
    "## CREATE SHAPE FILES FOR SHOWCASE\n",
    "\n",
    "#fx1, fy1, fx2, fy2 = (2000, 4500, 3000, 1000) # fault end points\n",
    "import geopandas as gpd\n",
    "import pandas as pd\n",
    "from shapely.geometry import Point, LineString\n",
    "\n",
    "crs = \"epsg:28350\"\n",
    "\n",
    "# Create a shape file of Badaminna Fault\n",
    "fx = [2000, 2400, 2700, 3000]\n",
    "fy = [3000, 2500, 1300, 1000]\n",
    "fault_trace = LineString(list(zip(fx, fy)))\n",
    "fault_gdf = gpd.GeoDataFrame(geometry=[fault_trace], crs = crs)\n",
    "fault_gdf.to_file('../data/fault_trace.shp')\n",
    "\n",
    "\n",
    "### PUMPING BORES\n",
    "xyobsbores = [(1500,1000), (2500, 5000), (4000, 3000), (5000,1500)]\n",
    "idobsbores = ['OB1', 'OB2', 'OB3', 'OB4'] \n",
    "\n",
    "xobsbores, yobsbores = list(zip(*xyobsbores))\n",
    "obs_bores = gpd.GeoDataFrame(pd.DataFrame({'id': idobsbores, 'x': xobsbores, 'y': yobsbores}), \n",
    "                       geometry=gpd.points_from_xy(x=xobsbores, y=yobsbores))\n",
    "type(obs_bores)"
   ]
  },
  {
   "cell_type": "code",
   "execution_count": null,
   "id": "3edcc642",
   "metadata": {},
   "outputs": [],
   "source": []
  }
 ],
 "metadata": {
  "kernelspec": {
   "display_name": "Python [conda env:loop3denvu]",
   "language": "python",
   "name": "conda-env-loop3denvu-py"
  },
  "language_info": {
   "codemirror_mode": {
    "name": "ipython",
    "version": 3
   },
   "file_extension": ".py",
   "mimetype": "text/x-python",
   "name": "python",
   "nbconvert_exporter": "python",
   "pygments_lexer": "ipython3",
   "version": "3.9.18"
  }
 },
 "nbformat": 4,
 "nbformat_minor": 5
}
