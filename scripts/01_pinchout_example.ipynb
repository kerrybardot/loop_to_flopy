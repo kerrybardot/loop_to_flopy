{
 "cells": [
  {
   "cell_type": "markdown",
   "metadata": {},
   "source": [
    "### Pinchout Example\n",
    "#### Showcasing LoopStructural-Flopy to address Model Structure Uncertainty\n",
    "\n",
    "This notebook showcases how with one parameter (Z_controlpoint), multiple structural models can be generated for a pinched out layer at an unconformity using a 3D synthetic example. Corresponding flow models are automatically generated and run due to the seamless workflow. Results show significantly different head distributions for eack structural model."
   ]
  },
  {
   "cell_type": "markdown",
   "metadata": {},
   "source": [
    "### 1. Project parameters"
   ]
  },
  {
   "cell_type": "code",
   "execution_count": 1,
   "metadata": {},
   "outputs": [
    {
     "name": "stderr",
     "output_type": "stream",
     "text": [
      "C:\\Users\\19904604\\AppData\\Local\\Temp\\ipykernel_39036\\3209728366.py:21: DeprecationWarning: GeoPandas is set to use PyGEOS over Shapely. PyGEOS support is deprecatedand will be removed in GeoPandas 1.0, released in the Q1 of 2024. Please migrate to Shapely 2.0 (https://geopandas.org/en/stable/docs/user_guide/pygeos_to_shapely.html).\n",
      "  import geopandas as gpd\n"
     ]
    },
    {
     "name": "stdout",
     "output_type": "stream",
     "text": [
      "Modelling routines loaded!\n",
      "Meshing routines loaded!\n",
      "Geomodel routines loaded!\n",
      "loop2flopy routines loaded!\n",
      "Plotting routines loaded!\n"
     ]
    }
   ],
   "source": [
    "%run ./loop_showcase_functions.ipynb\n",
    "#load from MODFLOW_tools (clone repo https://github.com/JimMcCallum/MODFLOW_Tools)\n",
    "%run ../../MODFLOW_Tools/modelling_routines/modelling_routines.ipynb\n",
    "%run ../../MODFLOW_Tools/meshing_routines/meshing_routines.ipynb\n",
    "%run ../../MODFLOW_Tools/geomodel_routines/geomodel_routines.ipynb\n",
    "%run ../../MODFLOW_Tools/loop2flopy/loop2flopy.ipynb\n",
    "%run ../../MODFLOW_Tools/plotting_routines_USG/plotting_routines.ipynb"
   ]
  },
  {
   "cell_type": "code",
   "execution_count": 5,
   "metadata": {},
   "outputs": [],
   "source": [
    "P = Project('showcase', boundingbox = [0, 6000, 0, 6000, -500, 0]) # (x0, x1, y0, y1, z0, z1)\n",
    "\n",
    "# ------------- DISCRETISATION PARAMETERS -----------------------#\n",
    "P.triExeName = '../exe/triangle.exe'\n",
    "P.workspace = '../modelfiles/'\n",
    "P.crs = \"epsg:28350\" # Put in coordinate reference\n",
    "\n",
    "P.xypumpbores = [] \n",
    "P.idpumpbores = ['P1', 'P2'] \n",
    "P.xyobsbores = [(1500,1000), (2500, 5000), (2500, 2500), (5000,5000)] \n",
    "P.idobsbores = ['OB1', 'OB2', 'OB3', 'OB4'] \n",
    "P.nobs = len(P.xyobsbores)\n",
    "P.npump = len(P.xypumpbores)\n",
    "\n",
    "zobs = [-40, -50, -100, -200, -300] # z observations\n",
    "P.nzobs = len(zobs)\n",
    "P.zobs = np.zeros((P.nobs, P.nzobs))\n",
    "for n in range(len(P.xyobsbores)):\n",
    "    for m in range(P.nzobs):\n",
    "        P.zobs[n][m] = zobs[m]\n",
    "\n",
    "P.r = 40        # refining factor for model boundary. High r has refined edges\n",
    "P.w = 100       # Interior boundary\n",
    "P.boundmaxtri = 50000 # 8/5 - was 20000\n",
    "P.modelmaxtri = 50000 # 8/5 - was 30000\n",
    "P.angle = 32   # minimum triangle angles\n",
    "P.nlv  = 30    \n",
    "\n",
    "P.radius1 = 100 # radius of inner circle around pumping bores\n",
    "P.radius2 = 200 # radius of outer circle around pumping bores\n",
    "P.boremaxtri = 99999\n",
    "\n",
    "#P.geo_bores = ['P1', 'P2', 'P3', 'P4']\n",
    "#P.geo_coords=[(500,500), (1600, 2800), (5500,5500), (2800,1600)]\n",
    "\n",
    "# ------------- FLOW MODEL PARAMETERS -----------------------#\n",
    "P.mfexe_name = '../exe/mf6.exe'\n",
    "\n",
    "P.nlg = 4    # number of geological layers\n",
    "P.nls = 3 # Number sublayers for conformable\n",
    "\n",
    "P.ss = [0.0001, 0.00001, 0.0001, 0.0001]\n",
    "P.sy = [0.1, 0.1, 0.1, 0.1]\n",
    "P.rch = 0.4/365 # 0.0027 m/d\n",
    "P.strt = -20.\n",
    "P.chfunc = lambda x,z: -(0.005*x) - (z * 0.02)-20 # horizontal gradient of 0.01 and vertical gradient of 0.02\n",
    "P.xt3d = False\n",
    "\n",
    "P.hk = [1, 0.1, 10, 0.1] \n",
    "P.vk = [i/10 for i in P.hk]\n",
    "\n",
    "vtk_workspace = '../vtk_files'\n",
    "if not os.path.isdir(vtk_workspace):\n",
    "    os.makedirs(vtk_workspace, exist_ok=True)\n",
    "    \n",
    "if not os.path.isdir('../results'):\n",
    "    os.makedirs(workspace, exist_ok=True)\n",
    "\n",
    "if not os.path.isdir('../modelfiles'):\n",
    "    os.makedirs(workspace, exist_ok=True)"
   ]
  },
  {
   "cell_type": "markdown",
   "metadata": {},
   "source": [
    "### Pinchouts - multiple simulations"
   ]
  },
  {
   "cell_type": "code",
   "execution_count": 6,
   "metadata": {},
   "outputs": [],
   "source": [
    "P.cell2dvor, P.xcycvor, P.verticesvor, P.vor, vornodes = createcell2d(P, grid = 'vor', fault = False)    \n",
    "data = pd.read_excel(\"../data/loop_showcase_data.xls\",sheet_name = \"pinchout_example\")\n",
    "strat = pd.read_excel(\"../data/loop_showcase_data.xls\",sheet_name = \"strat\")"
   ]
  },
  {
   "cell_type": "code",
   "execution_count": 7,
   "metadata": {
    "scrolled": false
   },
   "outputs": [
    {
     "name": "stderr",
     "output_type": "stream",
     "text": [
      "WARNING: 2024-08-06 10:34:50,803: geological_model.py:609 -- deprecated method. Model data can now be set using the data attribute\n",
      "C:\\Users\\19904604\\Anaconda3\\envs\\loop3denvu\\lib\\site-packages\\LoopStructural\\modelling\\core\\geological_model.py:647: MatplotlibDeprecationWarning: The get_cmap function was deprecated in Matplotlib 3.7 and will be removed two minor releases later. Use ``matplotlib.colormaps[name]`` or ``matplotlib.colormaps.get_cmap(obj)`` instead.\n",
      "  cmap = cm.get_cmap(cmap, n_units)\n"
     ]
    },
    {
     "name": "stdout",
     "output_type": "stream",
     "text": [
      "   Creating lithology and discretisation arrays for  PO_-250.0  ...\n",
      "   Creating property arrays for  PO_-250.0  ...\n",
      "   Adding flow packages to  PO_-250.0  ...\n",
      "   Time taken =  0.879418\n",
      "   Writing simulation and gwf for  PO_-250.0  ...\n",
      "WARNING: Unable to resolve dimension of ('gwf6', 'disu', 'cell2d', 'cell2d', 'icvert') based on shape \"ncvert\".\n",
      "Period =  Steady \n",
      "   Model success =  False\n",
      "   Re-writing IMS - Take 2\n",
      "Model success2 =  False\n",
      "   Re-writing IMS - Take 3\n",
      "Model success3 =  False\n"
     ]
    },
    {
     "ename": "TypeError",
     "evalue": "cannot unpack non-iterable NoneType object",
     "output_type": "error",
     "traceback": [
      "\u001b[1;31m---------------------------------------------------------------------------\u001b[0m",
      "\u001b[1;31mTypeError\u001b[0m                                 Traceback (most recent call last)",
      "Cell \u001b[1;32mIn[7], line 17\u001b[0m\n\u001b[0;32m     15\u001b[0m M\u001b[38;5;241m.\u001b[39mcreate_prop_arrays(P)                                     \u001b[38;5;66;03m# Create K arrays\u001b[39;00m\n\u001b[0;32m     16\u001b[0m M\u001b[38;5;241m.\u001b[39mcreate_flow_package_arrays(P)                             \u001b[38;5;66;03m# Create flow packages\u001b[39;00m\n\u001b[1;32m---> 17\u001b[0m M\u001b[38;5;241m.\u001b[39mgwf, M\u001b[38;5;241m.\u001b[39mhead_ss, M\u001b[38;5;241m.\u001b[39mobs_ss, M\u001b[38;5;241m.\u001b[39mruntime_ss \u001b[38;5;241m=\u001b[39m M\u001b[38;5;241m.\u001b[39mwrite_run_model(P, period \u001b[38;5;241m=\u001b[39m \u001b[38;5;124m'\u001b[39m\u001b[38;5;124mSteady\u001b[39m\u001b[38;5;124m'\u001b[39m, ic_array \u001b[38;5;241m=\u001b[39m P\u001b[38;5;241m.\u001b[39mstrt)   \n\u001b[0;32m     18\u001b[0m pinchout_obs_heads\u001b[38;5;241m.\u001b[39mappend((process_obs_steady(P, M)))\n\u001b[0;32m     19\u001b[0m heads\u001b[38;5;241m.\u001b[39mappend((M\u001b[38;5;241m.\u001b[39mhead_ss))\n",
      "\u001b[1;31mTypeError\u001b[0m: cannot unpack non-iterable NoneType object"
     ]
    }
   ],
   "source": [
    "options = np.linspace(-250, 0, 6) # control point z values\n",
    "\n",
    "pinchout_modelnames, pinchout_models, pinchout_obs_heads = [],[],[]        \n",
    "heads = []\n",
    "\n",
    "for i in range(len(options)):\n",
    "    pinchout_modelnames.append(str('PO_'+str(options[i])))  \n",
    "    pinchout_models.append(Model(pinchout_modelnames[i], P, plan = 'vor', transect = 'con')) # Create flow model  \n",
    "    P.control_points = (['CP1', 'control', 3000, 3000, options[i], -200, 'c', 'lower', np.nan, np.nan, np.nan],) \n",
    "    \n",
    "    P.data, P.strat = prepare_geomodel_loopshowcase(P, data, strat, include_fault = False)   # Prepare geomodel inputs\n",
    "    P.geomodel = create_geomodel_loopshowcase(P, include_fault = False) # Make geomodel\n",
    "    M = pinchout_models[i]\n",
    "    M.create_lith_dis_arrays(P)                                 # Create lith and dis arrays\n",
    "    M.create_prop_arrays(P)                                     # Create K arrays\n",
    "    M.create_flow_package_arrays(P)                             # Create flow packages\n",
    "    M.gwf, M.head_ss, M.obs_ss, M.runtime_ss = M.write_run_model(P, period = 'Steady', ic_array = P.strt)   \n",
    "    pinchout_obs_heads.append((process_obs_steady(P, M)))\n",
    "    heads.append((M.head_ss))\n",
    "    f = os.path.join(vtk_workspace, \"pinchouts\", M.modelname)\n",
    "    M.gwf.export(f, fmt=\"vtk\")"
   ]
  },
  {
   "cell_type": "code",
   "execution_count": null,
   "metadata": {},
   "outputs": [],
   "source": [
    "M.obslist"
   ]
  },
  {
   "cell_type": "code",
   "execution_count": null,
   "metadata": {},
   "outputs": [],
   "source": [
    "heads_A = find_watertable_disu(P, M = pinchout_models[-1], layer = 2)\n",
    "heads_B = find_watertable_disu(P, M = pinchout_models[0], layer = 2)"
   ]
  },
  {
   "cell_type": "code",
   "execution_count": null,
   "metadata": {},
   "outputs": [],
   "source": [
    "plot_head_diff(P, pinchout_models[0], heads_A, heads_B)"
   ]
  },
  {
   "cell_type": "code",
   "execution_count": null,
   "metadata": {},
   "outputs": [],
   "source": [
    "plot_bylayer(P, models = pinchout_models, layer = 1, vmin = -40, vmax = 20) "
   ]
  },
  {
   "cell_type": "code",
   "execution_count": null,
   "metadata": {},
   "outputs": [],
   "source": [
    "P.zobs"
   ]
  },
  {
   "cell_type": "code",
   "execution_count": null,
   "metadata": {},
   "outputs": [],
   "source": [
    "# Plot multiple sims\n",
    "plot_observations(ylim = [-40, 20], modelnames = pinchout_modelnames, heads = pinchout_obs_heads)"
   ]
  },
  {
   "cell_type": "code",
   "execution_count": null,
   "metadata": {},
   "outputs": [],
   "source": [
    "m = pinchout_models[0]\n",
    "m.lith.max()\n"
   ]
  },
  {
   "cell_type": "code",
   "execution_count": null,
   "metadata": {
    "scrolled": false
   },
   "outputs": [],
   "source": [
    "multiplot_vgrid_transect(P, models = pinchout_models, array = 'lith', X0 = P.x0, Y0 = P.y0, X1 = P.x1, Y1 = P.y1,)"
   ]
  },
  {
   "cell_type": "code",
   "execution_count": null,
   "metadata": {},
   "outputs": [],
   "source": [
    "multiplot_prop_transect(P, models = pinchout_models, array = 'head_ss', \n",
    "                        X0 = P.x0, Y0 = P.y0, X1 = P.x1, Y1 = P.y1,\n",
    "                        vmin = -45, vmax = 10)"
   ]
  },
  {
   "cell_type": "code",
   "execution_count": null,
   "metadata": {},
   "outputs": [],
   "source": [
    "P1_L = (500**2 + 500**2)**0.5\n",
    "P2_L = (2500**2 + 2500**2)**0.5\n",
    "CP1_L = (3000**2 + 3000**2)**0.5"
   ]
  },
  {
   "cell_type": "code",
   "execution_count": null,
   "metadata": {},
   "outputs": [],
   "source": [
    "M = pinchout_models[0]\n",
    "M.botm.shape\n",
    "M.vgrid\n",
    "gi = flopy.utils.GridIntersect(M.vgrid)\n",
    "point = Point(P1_L, P1_L)\n",
    "cell = np.array(list(gi.intersect(point)[\"cellids\"]))\n",
    "P1_z1 = M.gwf.disu.bot[cell]"
   ]
  },
  {
   "cell_type": "code",
   "execution_count": null,
   "metadata": {},
   "outputs": [],
   "source": [
    "#%run ./figures_paper.ipynb\n",
    "def figure3(P, models, X0, Y0, X1, Y1, vmin = None, vmax = None): # array needs to be a string of a property eg. 'k11', 'angle2'\n",
    "    \n",
    "    c = mpl.colors.ListedColormap(['wheat', 'lightgreen', 'coral'])\n",
    "    n = mpl.colors.Normalize(vmin=-1,vmax=1)\n",
    "    \n",
    "    fig = plt.figure(figsize = (10,10))\n",
    "    #fig.suptitle(\"TRANSECT - \" + array)\n",
    "    nm = [0,2,4]\n",
    "    for i in nm:\n",
    "        ax = plt.subplot(5, 2, i+1)\n",
    "        M = models[i]\n",
    "        model = M.gwf\n",
    "        a = getattr(M, 'k11')\n",
    "        xsect = flopy.plot.PlotCrossSection(model=model, line={\"line\": [(X0, Y0),(X1, Y1)]}, \n",
    "                                            extent = [P.x0,P.x1,P.z0,P.z1], geographic_coords=True)\n",
    "        csa = xsect.plot_array(a = logfunc(a), cmap=c, norm=n, alpha=0.8, vmin = vmin, vmax = vmax)\n",
    "        ax.set_ylim([-500, 0])\n",
    "        \n",
    "        linecollection = xsect.plot_grid(lw = 0.2, color = 'black') # Don't plot grid for reference\n",
    "        #plt.colorbar(csa, shrink = 0.7)\n",
    "        \n",
    "        cb_ax = fig.add_axes([.44,.44,.007,0.1])\n",
    "        fig.colorbar(csa,orientation='vertical',cax=cb_ax, label='Log Kh')\n",
    "        \n",
    "        \n",
    "        if i == 0:\n",
    "            ax.set_title('Log Kh', y=1.1, size = 11)\n",
    "            ax.plot(P1_L, -50, color='black', marker='o', markerfacecolor='lightblue', markersize=8)\n",
    "            ax.plot(P1_L, -350, color='black', marker='o', markerfacecolor='lightblue', markersize=8)\n",
    "            ax.plot(P1_L, -445, color='black', marker='o', markerfacecolor='lightblue', markersize=8)\n",
    "            ax.plot(P2_L, -50, color='black', marker='o', markerfacecolor='lightblue', markersize=8)\n",
    "            ax.plot(P2_L, -113, color='black', marker='o', markerfacecolor='lightblue', markersize=8)\n",
    "            ax.plot(P2_L, -220, color='black', marker='o', markerfacecolor='lightblue', markersize=8)\n",
    "            ax.plot(CP1_L, -207, color='black', marker='o', markerfacecolor='red', markersize=8)\n",
    "            ax.annotate(\"P1\",(P1_L, 20), size = 10, ha = 'center', annotation_clip = False)\n",
    "            ax.annotate(\"P2\",(P2_L, 20), size = 10, ha = 'center', annotation_clip = False)\n",
    "            ax.annotate(\"CP1\",(CP1_L, 20), size = 10, ha = 'center', annotation_clip = False)\n",
    "        if i == 0:\n",
    "            ax.set(xticklabels=[])\n",
    "        if i == 2:\n",
    "            ax.set_ylabel('z (m)', size = 10)\n",
    "            ax.set(xticklabels=[])\n",
    "        if i == 4: \n",
    "            ax.set_xlabel('x (km)', size = 10)\n",
    "            ax.set_xticks([0, 2000, 4000, 6000])\n",
    "            ax.set_xticklabels([0, 2, 4, 6])\n",
    "        \n",
    "    for i in nm:\n",
    "        ax = plt.subplot(5, 2, i+2)\n",
    "        M = models[i]\n",
    "        model = M.gwf\n",
    "        a = getattr(M, 'head_ss')\n",
    "        xsect = flopy.plot.PlotCrossSection(model=model, line={\"line\": [(X0, Y0),(X1, Y1)]}, \n",
    "                                            extent = [P.x0,P.x1,P.z0,P.z1], geographic_coords=True)\n",
    "        csa = xsect.plot_array(a = a, cmap='Spectral', alpha=0.8, vmin = -45, vmax = 10)\n",
    "        ax.set_ylim([-500, 0])\n",
    "        ax.annotate(M.modelname, (4700, -400), size = 10, bbox=dict(facecolor = 'white'))\n",
    "        if i == 0:\n",
    "            ax.set(xticklabels=[])\n",
    "            ax.set(yticklabels=[])\n",
    "            ax.set_title('Head Distribution', y = 1.1, size = 11)\n",
    "        if i == 2:\n",
    "            ax.set(xticklabels=[])\n",
    "            ax.set(yticklabels=[])\n",
    "        if i == 4: \n",
    "            ax.set_xlabel('x (km)', size = 10)\n",
    "            ax.set_xticks([0, 2000, 4000, 6000])\n",
    "            ax.set_xticklabels([0, 2, 4, 6])\n",
    "            ax.set(yticklabels=[])\n",
    "        #plt.colorbar(csa, shrink = 0.7)\n",
    "        \n",
    "    for i in nm:\n",
    "        layer = 2\n",
    "        ax = plt.subplot(3, 3, int(i/2 + 7))\n",
    "        M = models[i]\n",
    "        model = M.gwf\n",
    "        water_table = flopy.utils.postprocessing.get_water_table(M.gwf.output.head().get_data())\n",
    "        M.heads_disv = -1e30 * np.ones_like(M.idomain, dtype=float) \n",
    "        for k, h in enumerate(water_table):\n",
    "            if math.isnan(h) == False: \n",
    "                M.heads_disv[M.cellid_disu==k] = h        \n",
    "        pmv = flopy.plot.PlotMapView(modelgrid=M.vgrid)\n",
    "        H = pmv.plot_array(M.heads_disv[layer], vmin = -45, vmax = 10, cmap = 'Spectral', alpha = 0.6)\n",
    "        for j in range(len(P.xyobsbores)):\n",
    "            ax.plot(P.xyobsbores[j][0], P.xyobsbores[j][1],'o', ms = '4', c = 'black')\n",
    "            ax.annotate(P.idobsbores[j], (P.xyobsbores[j][0], P.xyobsbores[j][1]+100), c='black', size = 12) #, weight = 'bold')\n",
    "        \n",
    "        for j in range(len(P.xypumpbores)):\n",
    "            ax.plot(P.xypumpbores[j][0], P.xypumpbores[j][1],'o', ms = '4', c = 'red')\n",
    "            ax.annotate(P.idpumpbores[j], (P.xypumpbores[j][0], P.xypumpbores[j][1]+100), c='red', size = 12) #, weight = 'bold')\n",
    "            \n",
    "        if M.plan == 'car': P.sg.plot(ax=ax, edgecolor='black', lw = 0.2)\n",
    "        if M.plan == 'tri': P.tri.plot(ax=ax, edgecolor='black', lw = 0.2)\n",
    "        if M.plan == 'vor': P.vor.plot(ax=ax, edgecolor='black', lw = 0.2)\n",
    "        if i == 2: ax.set_yticklabels([])\n",
    "        if i == 2: ax.set_xlabel('x (km)', size = 10)\n",
    "        if i == 4: ax.set(yticklabels=[])\n",
    "        if i == 0:\n",
    "            ax.set_yticks([0, 2000, 4000, 6000])\n",
    "            ax.set_yticklabels([0, 2, 4, 6])\n",
    "        \n",
    "        ax.set_title(' ') \n",
    "        ax.set_xticks([0, 2000, 4000, 6000])\n",
    "        ax.set_xticklabels([0, 2, 4, 6])\n",
    "        #plt.colorbar(H, shrink = 0.7)\n",
    "        ax.annotate(M.modelname, (4000, 400), size = 10, bbox=dict(facecolor = 'white'))\n",
    "    cb_ax = fig.add_axes([.91,.124,.007,0.2])\n",
    "    fig.colorbar(H,orientation='vertical',cax=cb_ax, label = 'Head (m)')\n",
    "\n",
    "\n",
    "    plt.subplots_adjust(wspace=0.05, hspace=0.1)    \n",
    "    plt.tight_layout()  \n",
    "    plt.show()   \n",
    "    fig.savefig('../figures/fig3.tif', dpi=300)\n",
    "\n",
    "figure3(P, models = pinchout_models, X0 = P.x0, Y0 = P.y0, X1 = P.x1, Y1 = P.y1,)"
   ]
  },
  {
   "cell_type": "code",
   "execution_count": null,
   "metadata": {},
   "outputs": [],
   "source": []
  },
  {
   "cell_type": "code",
   "execution_count": null,
   "metadata": {},
   "outputs": [],
   "source": []
  },
  {
   "cell_type": "code",
   "execution_count": null,
   "metadata": {},
   "outputs": [],
   "source": []
  }
 ],
 "metadata": {
  "kernelspec": {
   "display_name": "Python [conda env:loop3denvu]",
   "language": "python",
   "name": "conda-env-loop3denvu-py"
  },
  "language_info": {
   "codemirror_mode": {
    "name": "ipython",
    "version": 3
   },
   "file_extension": ".py",
   "mimetype": "text/x-python",
   "name": "python",
   "nbconvert_exporter": "python",
   "pygments_lexer": "ipython3",
   "version": "3.9.18"
  }
 },
 "nbformat": 4,
 "nbformat_minor": 1
}
