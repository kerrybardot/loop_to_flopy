{
 "cells": [
  {
   "cell_type": "markdown",
   "metadata": {},
   "source": [
    "### Showcasing LoopStructural-Flopy to address Model Structure Uncertainty\n",
    "\n",
    "This code uses a synthetic example to showcase the LOOP to FloPy workflow as follows:\n",
    "\n",
    "1. Project parameters\n",
    "2. Geological model\n",
    "3. Meshing\n",
    "4. Flow model\n",
    "5. Plotting "
   ]
  },
  {
   "cell_type": "code",
   "execution_count": 1,
   "metadata": {},
   "outputs": [
    {
     "name": "stderr",
     "output_type": "stream",
     "text": [
      "C:\\Users\\19904604\\AppData\\Local\\Temp\\ipykernel_28168\\3209728366.py:21: DeprecationWarning: GeoPandas is set to use PyGEOS over Shapely. PyGEOS support is deprecatedand will be removed in GeoPandas 1.0, released in the Q1 of 2024. Please migrate to Shapely 2.0 (https://geopandas.org/en/stable/docs/user_guide/pygeos_to_shapely.html).\n",
      "  import geopandas as gpd\n"
     ]
    },
    {
     "name": "stdout",
     "output_type": "stream",
     "text": [
      "Modelling routines loaded!\n",
      "Meshing routines loaded!\n",
      "Geomodel routines loaded!\n",
      "loop2flopy routines loaded!\n",
      "Plotting routines loaded!\n"
     ]
    }
   ],
   "source": [
    "%run ./loop_showcase_functions.ipynb\n",
    "#load from MODFLOW_tools (clone repo https://github.com/JimMcCallum/MODFLOW_Tools)\n",
    "%run ../../MODFLOW_Tools/modelling_routines/modelling_routines.ipynb\n",
    "%run ../../MODFLOW_Tools/meshing_routines/meshing_routines.ipynb\n",
    "%run ../../MODFLOW_Tools/geomodel_routines/geomodel_routines.ipynb\n",
    "%run ../../MODFLOW_Tools/loop2flopy/loop2flopy.ipynb\n",
    "%run ../../MODFLOW_Tools/plotting_routines_USG/plotting_routines.ipynb"
   ]
  },
  {
   "cell_type": "code",
   "execution_count": 2,
   "metadata": {},
   "outputs": [],
   "source": [
    "P = Project('showcase', boundingbox = [0, 6000, 0, 6000, -500, 0]) # (x0, x1, y0, y1, z0, z1)\n",
    "\n",
    "# ------------- DISCRETISATION PARAMETERS -----------------------#\n",
    "P.triExeName = '../exe/triangle.exe'\n",
    "P.workspace = '../modelfiles/'\n",
    "P.crs = \"epsg:28350\" # Put in coordinate reference\n",
    "P.xypumpbores = [(2500, 2500)] #[(2000, 2000), (4000,4000)]\n",
    "P.xypumpbores = [] #[(2000, 2000), (4000,4000)]\n",
    "P.idpumpbores = ['P1', 'P2'] \n",
    "P.xyobsbores = [(1500,1000), (2500, 5000), (4000, 3000), (5000,1500)] \n",
    "P.zobs = [-40, -50, -100, -200, -300]\n",
    "P.idobsbores = ['OB1', 'OB2', 'OB3', 'OB4'] \n",
    "P.nobs = len(P.xyobsbores)\n",
    "P.npump = len(P.xypumpbores)\n",
    "\n",
    "P.r = 40        # refining factor for model boundary. High r has refined edges\n",
    "P.w = 100      # Interior boundary\n",
    "P.boundmaxtri = 50000 # 8/5 - was 20000\n",
    "P.modelmaxtri = 50000 # 8/5 - was 30000\n",
    "P.angle = 32   # minimum triangle angles\n",
    "P.nlv  = 30  # 8/5 was 50 - number of layers for voxel transect grid\n",
    "\n",
    "P.radius1 = 100 # radius of inner circle around pumping bores\n",
    "P.radius2 = 200 # radius of outer circle around pumping bores\n",
    "P.boremaxtri = 99999\n",
    "\n",
    "P.geo_bores = ['P1', 'P2', 'P3', 'P4']\n",
    "P.geo_coords=[(500,500), (1600, 2800), (5500,5500), (2800,1600)]\n",
    "\n",
    "# ------------- GEO MODEL PARAMETERS -----------------------#\n",
    "#P.fx1, P.fy1, P.fx2, P.fy2 = (2000, 4500, 4000, 2000) # fault end points\n",
    "P.fx1, P.fy1, P.fx2, P.fy2 = (2000, 4500, 3000, 1000) # fault end points\n",
    "P.fault_buffer = 150.  # offset boundary from fault\n",
    "\n",
    "# ------------- FLOW MODEL PARAMETERS -----------------------#\n",
    "P.mfexe_name = '../exe/mf6.exe'\n",
    "\n",
    "P.nlg = 4    # number of geological layers\n",
    "P.nls = 3 # Number sublayers for conformable\n",
    "\n",
    "P.ss = [0.0001, 0.00001, 0.0001, 0.0001]\n",
    "P.rch = 0.4/365 # 0.0027 m/d\n",
    "P.strt = -20.\n",
    "P.chfunc = lambda x,z: -(0.005*x) - (z * 0.02)-20 # horizontal gradient of 0.01 and vertical gradient of 0.02\n",
    "P.xt3d = True\n",
    "\n",
    "vtk_workspace = 'vtk_files'\n",
    "if not os.path.isdir(vtk_workspace):\n",
    "    os.makedirs(vtk_workspace, exist_ok=True)"
   ]
  },
  {
   "cell_type": "markdown",
   "metadata": {},
   "source": [
    "### Bedding Angle"
   ]
  },
  {
   "cell_type": "code",
   "execution_count": 3,
   "metadata": {},
   "outputs": [
    {
     "name": "stderr",
     "output_type": "stream",
     "text": [
      "C:\\Users\\19904604\\Anaconda3\\envs\\loop3denvu\\lib\\site-packages\\skimage\\util\\dtype.py:27: DeprecationWarning: `np.bool8` is a deprecated alias for `np.bool_`.  (Deprecated NumPy 1.24)\n",
      "  np.bool8: (False, True),\n",
      "WARNING: 2024-05-27 20:35:03,857: geological_model.py:609 -- deprecated method. Model data can now be set using the data attribute\n",
      "C:\\Users\\19904604\\Anaconda3\\envs\\loop3denvu\\lib\\site-packages\\LoopStructural\\modelling\\core\\geological_model.py:647: MatplotlibDeprecationWarning: The get_cmap function was deprecated in Matplotlib 3.7 and will be removed two minor releases later. Use ``matplotlib.colormaps[name]`` or ``matplotlib.colormaps.get_cmap(obj)`` instead.\n",
      "  cmap = cm.get_cmap(cmap, n_units)\n"
     ]
    },
    {
     "name": "stdout",
     "output_type": "stream",
     "text": [
      "{'upper': 0, 'upper_unconformity': 1, 'lower': 2}\n"
     ]
    },
    {
     "data": {
      "image/png": "[encoded data removed]",
      "text/plain": [
       "<Figure size 300x300 with 1 Axes>"
      ]
     },
     "metadata": {},
     "output_type": "display_data"
    }
   ],
   "source": [
    "options = [False, True]\n",
    "P.hk = [5, 100, 1, 1] \n",
    "P.vk = [5, 0.1, 0.1, 1]\n",
    "\n",
    "P.ncol = 60  \n",
    "P.nrow = 60  \n",
    "P.nlv  = 50  \n",
    "P.delx = P.Lx/P.ncol\n",
    "P.dely = P.Ly/P.nrow\n",
    "\n",
    "P.cell2dcar, P.xcyccar, P.verticescar, P.sg = createcell2d(P, grid = 'car', fault = False) \n",
    "P.control_points = ([]) \n",
    "bore_data = pd.read_excel(\"loop_showcase_data.xls\",sheet_name = \"bedding_example\")\n",
    "P.data, P.strat = prepare_geomodel_loopshowcase(P, bore_data, include_fault = False) \n",
    "P.geomodel = create_geomodel_loopshowcase(P, include_fault = False) \n",
    "\n",
    "plot_bores(P)\n",
    "#upper_levels, lower_levels = [-99999, -50, 0, 99999], [-99999, -200, -100, -50, 99999]\n",
    "#plot_geo_2D_WE(P.geomodel, 1000, upper_levels, lower_levels)\n",
    "#plot_geo_2D_WE(P.geomodel, 2000, upper_levels, lower_levels)\n",
    "#plot_geo_2D_WE(P.geomodel, 3000, upper_levels, lower_levels)\n",
    "#plot_geo_2D_WE(P.geomodel, 4000, upper_levels, lower_levels)"
   ]
  },
  {
   "cell_type": "code",
   "execution_count": 4,
   "metadata": {},
   "outputs": [
    {
     "name": "stdout",
     "output_type": "stream",
     "text": [
      "Creating lithology and discretisation arrays for  BA_False  ...\n",
      "Time taken =  4.545539\n",
      "Creating property arrays for  BA_False  ...\n",
      "Time taken =  0.130469\n",
      "Adding flow packages to  BA_False  ...\n",
      "Time taken =  2.320441\n",
      "Writing simulation and gwf for  BA_False  ...\n",
      "BA_False\n"
     ]
    },
    {
     "ename": "ModuleNotFoundError",
     "evalue": "No module named 'disv2disu'",
     "output_type": "error",
     "traceback": [
      "\u001b[1;31m---------------------------------------------------------------------------\u001b[0m",
      "\u001b[1;31mModuleNotFoundError\u001b[0m                       Traceback (most recent call last)",
      "Cell \u001b[1;32mIn[4], line 13\u001b[0m\n\u001b[0;32m     11\u001b[0m M\u001b[38;5;241m.\u001b[39mcreate_prop_arrays(P)                                     \n\u001b[0;32m     12\u001b[0m M\u001b[38;5;241m.\u001b[39mcreate_flow_package_arrays(P)                            \n\u001b[1;32m---> 13\u001b[0m M\u001b[38;5;241m.\u001b[39mgwf, M\u001b[38;5;241m.\u001b[39mhead_ss, M\u001b[38;5;241m.\u001b[39mobs_ss, M\u001b[38;5;241m.\u001b[39mruntime_ss \u001b[38;5;241m=\u001b[39m \u001b[43mM\u001b[49m\u001b[38;5;241;43m.\u001b[39;49m\u001b[43mwrite_run_model\u001b[49m\u001b[43m(\u001b[49m\u001b[43mP\u001b[49m\u001b[43m,\u001b[49m\u001b[43m \u001b[49m\u001b[43mperiod\u001b[49m\u001b[43m \u001b[49m\u001b[38;5;241;43m=\u001b[39;49m\u001b[43m \u001b[49m\u001b[38;5;124;43m'\u001b[39;49m\u001b[38;5;124;43mSteady\u001b[39;49m\u001b[38;5;124;43m'\u001b[39;49m\u001b[43m)\u001b[49m   \n\u001b[0;32m     14\u001b[0m bedding_obs_heads\u001b[38;5;241m.\u001b[39mappend((process_obs(P, M)))\n",
      "File \u001b[1;32m~\\AppData\\Local\\Temp\\ipykernel_28168\\200102413.py:404\u001b[0m, in \u001b[0;36mModel.write_run_model\u001b[1;34m(self, P, period, complexity, outer_dvclose, inner_dvclose, outer_maximum, newtonoptions)\u001b[0m\n\u001b[0;32m    400\u001b[0m gwf \u001b[38;5;241m=\u001b[39m flopy\u001b[38;5;241m.\u001b[39mmf6\u001b[38;5;241m.\u001b[39mModflowGwf(sim, modelname\u001b[38;5;241m=\u001b[39m\u001b[38;5;28mself\u001b[39m\u001b[38;5;241m.\u001b[39mmodelname, save_flows\u001b[38;5;241m=\u001b[39m\u001b[38;5;28;01mTrue\u001b[39;00m, newtonoptions \u001b[38;5;241m=\u001b[39m newtonoptions,) \n\u001b[0;32m    402\u001b[0m \u001b[38;5;66;03m# -------------- DIS -------------------------       \u001b[39;00m\n\u001b[1;32m--> 404\u001b[0m \u001b[38;5;28;01mimport\u001b[39;00m \u001b[38;5;21;01mdisv2disu\u001b[39;00m\n\u001b[0;32m    405\u001b[0m \u001b[38;5;28;01mfrom\u001b[39;00m \u001b[38;5;21;01mimportlib\u001b[39;00m \u001b[38;5;28;01mimport\u001b[39;00m reload\n\u001b[0;32m    406\u001b[0m reload(disv2disu)\n",
      "\u001b[1;31mModuleNotFoundError\u001b[0m: No module named 'disv2disu'"
     ]
    }
   ],
   "source": [
    "bedding_modelnames = []    \n",
    "bedding_models = []\n",
    "bedding_obs_heads = []\n",
    "\n",
    "for i in range(len(options)):\n",
    "    bedding_modelnames.append(str('BA_'+str(options[i])))\n",
    "    bedding_models.append(Model(bedding_modelnames[i], P, plan = 'car', transect = 'vox'))\n",
    "    P.xt3d = options[i]\n",
    "    M = bedding_models[i]\n",
    "    M.create_lith_dis_arrays(P)                                \n",
    "    M.create_prop_arrays(P)                                     \n",
    "    M.create_flow_package_arrays(P)                            \n",
    "    M.gwf, M.head_ss, M.obs_ss, M.runtime_ss = M.write_run_model(P, period = 'Steady')   \n",
    "    bedding_obs_heads.append((process_obs(P, M)))"
   ]
  },
  {
   "cell_type": "code",
   "execution_count": null,
   "metadata": {},
   "outputs": [],
   "source": [
    "multiplot_prop_transect(P, models = bedding_models, array = 'logk11', X0 = P.x0, Y0 = P.y0, X1 = P.x1, Y1 = P.y1)\n",
    "multiplot_prop_transect(P, models = bedding_models, array = 'angle2', X0 = P.x0, Y0 = P.y0, X1 = P.x1, Y1 = P.y1,)#vmin = -6, vmax = 0)\n",
    "multiplot_prop_transect(P, models = bedding_models, array = 'head_ss', X0 = P.x0, Y0 = P.y0, X1 = P.x1, Y1 = P.y1,)#vmin = vmin, vmax = vmax)"
   ]
  },
  {
   "cell_type": "code",
   "execution_count": null,
   "metadata": {},
   "outputs": [],
   "source": [
    "levels = np.arange(-40, 0, 2)      \n",
    "levels"
   ]
  },
  {
   "cell_type": "code",
   "execution_count": null,
   "metadata": {},
   "outputs": [],
   "source": [
    "def plot(P, models, array, X0, Y0, X1, Y1, vmin = None, vmax = None): # array needs to be a string of a property eg. 'k11', 'angle2'\n",
    "    nmodels = len(models)\n",
    "    if nmodels > 1: fig = plt.figure(figsize = (10,2*nmodels))\n",
    "    if nmodels ==1: fig = plt.figure(figsize = (10,2.5))\n",
    "    fig.suptitle(\"TRANSECT - \" + array)\n",
    "    for i in range(nmodels):\n",
    "        M = models[i]\n",
    "        model = M.gwf\n",
    "        a = getattr(M, array)\n",
    "        \n",
    "        ax = plt.subplot(nmodels, 1, i+1)\n",
    "        ax.set_title(M.modelname, size = 10) \n",
    "        xsect = flopy.plot.PlotCrossSection(model=model, line={\"line\": [(X0, Y0),(X1, Y1)]}, \n",
    "                                            extent = [P.x0,P.x1,P.z0,P.z1], geographic_coords=True)\n",
    "        csa = xsect.plot_array(a = a, cmap = 'Spectral', alpha=0.8, vmin = vmin, vmax = vmax)\n",
    "        CS = xsect.contour_array(a = a, colors='Blue', levels = levels)#[-45,-40,-35,-30,-25,-20,-15,-10,-5])\n",
    "        ax.clabel(CS, inline=1, fontsize=10, fmt='%1.0f')\n",
    "        #CS = ax.contour(xc, zc, a, levels,colors='Blue', linestyles = 'solid', linewidths=1.0)\n",
    "        if i == nmodels-1: ax.set_xlabel('x (m)', size = 10)\n",
    "        if i == int(nmodels/2): ax.set_ylabel('z (m)', size = 10)\n",
    "        if nmodels>1: linecollection = xsect.plot_grid(lw = 0.1, color = 'black') # Don't plot grid for reference\n",
    "        plt.colorbar(csa, shrink = 0.7)\n",
    "    plt.tight_layout()  \n",
    "    plt.show()    \n",
    "\n",
    "plot(P, models = bedding_models, array = 'head_ss', X0 = 0, Y0 = 4000, X1 = P.x1, Y1 = 4000)# vmin = 20, vmax = 65)#\n"
   ]
  },
  {
   "cell_type": "code",
   "execution_count": null,
   "metadata": {
    "scrolled": false
   },
   "outputs": [],
   "source": [
    "# PLOTS\n",
    "plot_observations(heads = bedding_obs_heads, modelnames = bedding_modelnames, ylim = [-40, -10])\n",
    "plot_bylayer(P, models = bedding_models, layer = 4, vmin = -40, vmax = -10) \n",
    "multiplot_vgrid_transect(P, models = bedding_models, array = 'lith', X0 = P.x0, Y0 = P.y0, X1 = P.x1, Y1 = P.y1)"
   ]
  },
  {
   "cell_type": "markdown",
   "metadata": {},
   "source": [
    "### Angle example"
   ]
  },
  {
   "cell_type": "code",
   "execution_count": null,
   "metadata": {},
   "outputs": [],
   "source": [
    "# This shows how Angle 1 and 2 are calculated\n",
    "P.hk = [1, 1, 1, 1] \n",
    "P.vk = [1, 1, 1, 1]\n",
    "\n",
    "P.ncol = 60  \n",
    "P.nrow = 60  \n",
    "P.nlv  = 50  \n",
    "P.delx = P.Lx/P.ncol\n",
    "P.dely = P.Ly/P.nrow\n",
    "\n",
    "P.cell2dcar, P.xcyccar, P.verticescar, P.sg = createcell2d(P, grid = 'car', fault = False) \n",
    "P.control_points = ([]) \n",
    "bore_data = pd.read_excel(\"loop_showcase_data.xls\",sheet_name = \"angle_example\")\n",
    "P.data, P.strat = prepare_geomodel_loopshowcase(P, bore_data, include_fault = False) \n",
    "P.geomodel = create_geomodel_loopshowcase(P, include_fault = False) \n",
    "\n",
    "M = Model('angle_example', P, plan = 'car', transect = 'vox')\n",
    "M.create_lith_dis_arrays(P)                                \n",
    "M.create_prop_arrays(P)                                     \n",
    "M.create_flow_package_arrays(P)                            \n",
    "M.gwf, M.head_ss, M.obs_ss, M.runtime_ss = M.write_run_model(P, period = 'Steady')   \n"
   ]
  },
  {
   "cell_type": "code",
   "execution_count": null,
   "metadata": {},
   "outputs": [],
   "source": [
    "multiplot_prop_transect(P, models = [M], array = 'logk11', X0 = P.x0, Y0 = 3000, X1 = P.x1, Y1 = 3000,)\n",
    "multiplot_prop_transect(P, models = [M], array = 'angle2', X0 = P.x0, Y0 = 3000, X1 = P.x1, Y1 = 3000,)"
   ]
  },
  {
   "cell_type": "code",
   "execution_count": null,
   "metadata": {},
   "outputs": [],
   "source": [
    "multiplot_prop_plan(P, models = [M], array = 'angle1', layer = 25, vmin = None, vmax = None)"
   ]
  },
  {
   "cell_type": "code",
   "execution_count": null,
   "metadata": {},
   "outputs": [],
   "source": [
    "f = os.path.join(vtk_workspace, \"angle\", M.modelname)\n",
    "M.gwf.export(f, fmt=\"vtk\")"
   ]
  }
 ],
 "metadata": {
  "kernelspec": {
   "display_name": "Python [conda env:loop3denvu]",
   "language": "python",
   "name": "conda-env-loop3denvu-py"
  },
  "language_info": {
   "codemirror_mode": {
    "name": "ipython",
    "version": 3
   },
   "file_extension": ".py",
   "mimetype": "text/x-python",
   "name": "python",
   "nbconvert_exporter": "python",
   "pygments_lexer": "ipython3",
   "version": "3.9.18"
  }
 },
 "nbformat": 4,
 "nbformat_minor": 1
}
