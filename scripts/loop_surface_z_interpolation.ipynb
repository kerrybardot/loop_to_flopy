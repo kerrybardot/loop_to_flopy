{
 "cells": [
  {
   "cell_type": "code",
   "execution_count": 1,
   "metadata": {},
   "outputs": [],
   "source": [
    "import pandas as pd\n",
    "import numpy as np\n",
    "from LoopStructural import GeologicalModel\n",
    "import pyvista as pv\n",
    "from LoopStructural.interpolators.supports import P1Unstructured2d, StructuredGrid2D"
   ]
  },
  {
   "cell_type": "code",
   "execution_count": 2,
   "metadata": {},
   "outputs": [],
   "source": [
    "df = pd.DataFrame(\n",
    "    [\n",
    "        [5, 5, 5, 0.1, 0, 0.86, 0],\n",
    "        [8, 5, 4, 0, 0, 1, 0],\n",
    "        [2, 5, 4, 0, 0, 1, 0],\n",
    "        [2, 2, 4, 0, 0, 1, 0],\n",
    "        [2, 7, 4, 0, 0, 1, 0],\n",
    "    ],\n",
    "    columns=[\"X\", \"Y\", \"Z\", \"nx\", \"ny\", \"nz\", \"val\"],\n",
    ")\n",
    "df[\"feature_name\"] = \"field\""
   ]
  },
  {
   "cell_type": "code",
   "execution_count": 3,
   "metadata": {},
   "outputs": [
    {
     "data": {
      "application/vnd.jupyter.widget-view+json": {
       "model_id": "39bba494026d4293a5bd4081164d0bd0",
       "version_major": 2,
       "version_minor": 0
      },
      "text/plain": [
       "  0%|          | 0/1 [00:00<?, ?it/s]"
      ]
     },
     "metadata": {},
     "output_type": "display_data"
    }
   ],
   "source": [
    "model = GeologicalModel(np.zeros(3), np.ones(3) * 10)\n",
    "model.data = df\n",
    "model.create_and_add_foliation(\"field\")\n",
    "model.update()"
   ]
  },
  {
   "cell_type": "code",
   "execution_count": 29,
   "metadata": {},
   "outputs": [
    {
     "name": "stdout",
     "output_type": "stream",
     "text": [
      "[47 47 47]\n",
      "[100 100 100]\n"
     ]
    }
   ],
   "source": [
    "# to get the isosurfaces you can call feature.surfaces([0.]) where the argument is the list of values to isosurface\n",
    "# the resolution of the isosurfaces is defined by the model.bounding_box\n",
    "# or you can pass a BoundingBox object to define the area and resolution to isosurface\n",
    "print(model.bounding_box.nsteps)\n",
    "model.bounding_box.nelements = 1e6\n",
    "print(model.bounding_box.nsteps)\n",
    "surfaces = model[\"field\"].surfaces([0.0])"
   ]
  },
  {
   "cell_type": "code",
   "execution_count": 30,
   "metadata": {},
   "outputs": [
    {
     "data": {
      "text/plain": [
       "[Surface(vertices=array([[ 0.        ,  0.        ,  3.74262993],\n",
       "        [ 0.        ,  0.1010101 ,  3.74420551],\n",
       "        [ 0.1010101 ,  0.        ,  3.75347908],\n",
       "        ...,\n",
       "        [10.        ,  9.7979798 ,  4.4559209 ],\n",
       "        [10.        ,  9.8989899 ,  4.45808295],\n",
       "        [10.        , 10.        ,  4.46024461]]), triangles=array([[    2,     1,     0],\n",
       "        [    3,     1,     2],\n",
       "        [    3,     4,     1],\n",
       "        ...,\n",
       "        [11344, 11242, 11343],\n",
       "        [11344, 11243, 11242],\n",
       "        [11345, 11243, 11344]]), normals=array([[ 0.10673615,  0.01550871, -0.99416643],\n",
       "        [ 0.10828506,  0.01538583, -0.9940008 ],\n",
       "        [ 0.1068176 ,  0.01683933, -0.99413604],\n",
       "        ...,\n",
       "        [ 0.00485526,  0.02136716, -0.9997599 ],\n",
       "        [ 0.00571292,  0.02136293, -0.99975544],\n",
       "        [ 0.00668195,  0.02129244, -0.999751  ]], dtype=float32), name='field_0.0', values=array([0., 0., 0., ..., 0., 0., 0.]), properties=None)]"
      ]
     },
     "execution_count": 30,
     "metadata": {},
     "output_type": "execute_result"
    }
   ],
   "source": [
    "surfaces"
   ]
  },
  {
   "cell_type": "code",
   "execution_count": 31,
   "metadata": {},
   "outputs": [
    {
     "data": {
      "application/vnd.jupyter.widget-view+json": {
       "model_id": "8b7e8b95e3f44220bf32fc19ae2541bc",
       "version_major": 2,
       "version_minor": 0
      },
      "text/plain": [
       "Widget(value=\"<iframe src='http://localhost:50953/index.html?ui=P_0x1d484165590_6&reconnect=auto' style='width…"
      ]
     },
     "metadata": {},
     "output_type": "display_data"
    }
   ],
   "source": [
    "p = pv.Plotter()\n",
    "p.add_mesh(surfaces[0].vtk)\n",
    "p.show()"
   ]
  },
  {
   "cell_type": "code",
   "execution_count": 32,
   "metadata": {},
   "outputs": [],
   "source": [
    "mesh = P1Unstructured2d(\n",
    "    surfaces[0].triangles, surfaces[0].vertices[:, 0:2], surfaces[0].triangles[:, 0:3]\n",
    ")"
   ]
  },
  {
   "cell_type": "code",
   "execution_count": 33,
   "metadata": {},
   "outputs": [],
   "source": [
    "structured2d = StructuredGrid2D(\n",
    "    origin=np.zeros(2), step_vector=np.ones(2), nsteps=np.ones(2, dtype=int) * 11\n",
    ")\n",
    "pts = structured2d.barycentre"
   ]
  },
  {
   "cell_type": "code",
   "execution_count": null,
   "metadata": {},
   "outputs": [],
   "source": []
  },
  {
   "cell_type": "code",
   "execution_count": 34,
   "metadata": {},
   "outputs": [
    {
     "name": "stdout",
     "output_type": "stream",
     "text": [
      "0 10000 100\n"
     ]
    }
   ],
   "source": [
    "z = mesh.evaluate_value(pts, surfaces[0].vertices[:, 2])"
   ]
  },
  {
   "cell_type": "code",
   "execution_count": 35,
   "metadata": {},
   "outputs": [
    {
     "data": {
      "text/plain": [
       "array([-1.07365631e-03, -9.13525658e-04, -6.41173724e-04, -2.51104624e-04,\n",
       "       -1.76431047e-04, -3.72801064e-04,  4.06762478e-04,  3.52683967e-05,\n",
       "       -1.24826180e-04, -8.98240755e-05, -1.23952781e-03, -9.85792320e-04,\n",
       "       -6.29330329e-04, -3.20785042e-04, -2.01820636e-04, -5.30342763e-04,\n",
       "        1.98802934e-04, -4.98659163e-04, -7.35620858e-05, -7.31201583e-05,\n",
       "       -1.59995543e-03, -1.69961260e-03, -7.46491487e-04,  1.36760472e-04,\n",
       "        5.76831216e-04, -9.19725548e-05,  1.99576976e-05, -1.15394440e-03,\n",
       "       -7.60530621e-04, -5.73858634e-04, -4.56143452e-04, -2.24340903e-03,\n",
       "       -1.12518431e-03,  2.44126852e-04,  1.65269012e-03,  9.41634481e-04,\n",
       "       -3.86359386e-03, -2.36559607e-03,  4.84643595e-04, -5.13243797e-05,\n",
       "       -9.08409368e-04, -3.25027084e-03, -2.15616540e-03, -1.80353671e-03,\n",
       "        1.20712193e-03,  9.44236641e-04,  1.81946229e-03, -2.40029478e-03,\n",
       "        2.58515354e-04, -2.41504776e-05, -1.56854187e-03, -4.23695461e-03,\n",
       "       -3.66646664e-03,  2.80046054e-03, -4.47520613e-03,  2.64664307e-03,\n",
       "       -5.62409654e-04, -2.31535902e-03,  2.58774855e-05,  4.56339797e-04,\n",
       "       -4.20396155e-03, -4.70111594e-03, -4.47579755e-03, -2.16879477e-03,\n",
       "       -9.33673108e-04,  1.57671599e-03,  4.50482663e-05, -5.36369513e-04,\n",
       "        1.80926133e-03,  4.27957547e-04, -4.40298143e-03, -4.67525781e-03,\n",
       "       -6.98609105e-04, -3.17948965e-03, -5.96493772e-04, -3.34224160e-05,\n",
       "       -2.75496636e-04, -1.48795019e-04,  6.46024745e-04,  8.94362136e-04,\n",
       "       -4.69156242e-03, -4.68974246e-03, -4.23878606e-03, -3.50717101e-03,\n",
       "       -2.08663506e-03, -1.05750443e-03, -8.70306887e-04, -1.86750183e-04,\n",
       "        3.86498034e-04,  9.32701747e-04, -4.77051216e-03, -4.82713264e-03,\n",
       "       -4.39270866e-03, -3.75491985e-03, -2.93283372e-03, -2.18791477e-03,\n",
       "       -1.67268691e-03, -5.08785660e-04,  5.18701487e-04,  1.31631940e-03])"
      ]
     },
     "execution_count": 35,
     "metadata": {},
     "output_type": "execute_result"
    }
   ],
   "source": [
    "# we expect the values to be close to zero depending on the resultion of the interpolation\n",
    "model[\"field\"].evaluate_value(np.hstack([pts, z[:, np.newaxis]]))"
   ]
  },
  {
   "cell_type": "markdown",
   "metadata": {},
   "source": []
  },
  {
   "cell_type": "code",
   "execution_count": 36,
   "metadata": {},
   "outputs": [
    {
     "data": {
      "application/vnd.jupyter.widget-view+json": {
       "model_id": "753db5e3e5c84c619f1888cbea35d408",
       "version_major": 2,
       "version_minor": 0
      },
      "text/plain": [
       "Widget(value=\"<iframe src='http://localhost:50953/index.html?ui=P_0x1d486e5b710_7&reconnect=auto' style='width…"
      ]
     },
     "metadata": {},
     "output_type": "display_data"
    }
   ],
   "source": [
    "p = pv.Plotter()\n",
    "p.add_points(np.hstack([pts, z[:, np.newaxis]]))\n",
    "p.add_mesh(surfaces[0].vtk)\n",
    "p.show()"
   ]
  },
  {
   "cell_type": "code",
   "execution_count": null,
   "metadata": {},
   "outputs": [],
   "source": []
  }
 ],
 "metadata": {
  "kernelspec": {
   "display_name": "Python [conda env:loop3denvu]",
   "language": "python",
   "name": "conda-env-loop3denvu-py"
  },
  "language_info": {
   "codemirror_mode": {
    "name": "ipython",
    "version": 3
   },
   "file_extension": ".py",
   "mimetype": "text/x-python",
   "name": "python",
   "nbconvert_exporter": "python",
   "pygments_lexer": "ipython3",
   "version": "3.9.18"
  }
 },
 "nbformat": 4,
 "nbformat_minor": 2
}
